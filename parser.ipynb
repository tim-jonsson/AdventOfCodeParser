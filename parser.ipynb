{
 "cells": [
  {
   "cell_type": "code",
   "execution_count": 36,
   "metadata": {},
   "outputs": [],
   "source": [
    "import requests\n",
    "import math\n",
    "import random\n",
    "import json\n",
    "from datetime import date\n",
    "\n",
    "with open('settings.txt') as f:\n",
    "    variables = json.load(f)\n",
    "\n",
    "URL = variables['URL']\n",
    "\n",
    "HEADER = variables['HEADER']\n",
    "\n",
    "# Currently the start and end date needs to be calculated by hands as dates are weird. Can probably be automated in the future\n",
    "# Use https://www.unixtimestamp.com/\n",
    "# Timestamp for start of week, 00:00:00 on Monday. Must be exact!\n",
    "START_DATE = 1670799600\n",
    "# Timestamp for end of week, 23:59:59 on Sunday. Must be exact!\n",
    "END_DATE = \t1671404399\n",
    "\n",
    "WEEK = date.fromtimestamp(START_DATE).isocalendar()[1]"
   ]
  },
  {
   "cell_type": "code",
   "execution_count": null,
   "metadata": {},
   "outputs": [],
   "source": [
    "resp = requests.get(url=url, headers=headers)\n",
    "leaderboard = resp.json()['members'] # Get the json formatted leaderboard\n",
    "print(json.dumps(leaderboard, indent=4))"
   ]
  },
  {
   "cell_type": "code",
   "execution_count": 29,
   "metadata": {},
   "outputs": [],
   "source": [
    "def filter_star_count(day, daily_stars):\n",
    "    START_DAY = int(date.fromtimestamp(START_DATE).day)\n",
    "    END_DAY = int(date.fromtimestamp(END_DATE).day)\n",
    "    star_count = len([star for star in daily_stars.values()\n",
    "                      if START_DATE <= star['get_star_ts'] <= END_DATE and START_DAY <= int(day) <= END_DAY])\n",
    "    return star_count\n"
   ]
  },
  {
   "cell_type": "code",
   "execution_count": 30,
   "metadata": {},
   "outputs": [],
   "source": [
    "def get_member_info(member_info):\n",
    "    name = member_info['name'] if member_info['name'] is not None else \"Anonymous User\"\n",
    "    star_list = member_info['completion_day_level']\n",
    "    star_count = sum(map(filter_star_count, star_list.keys(), star_list.values()))\n",
    "    weight = 1.02578*math.log(2.3963*star_count) if star_count > 0 else 0\n",
    "    return (name, star_count, weight)"
   ]
  },
  {
   "cell_type": "code",
   "execution_count": null,
   "metadata": {},
   "outputs": [],
   "source": [
    "member_info = [get_member_info(member_info) for member_info in leaderboard.values()]\n",
    "sorted_member_info = sorted(member_info, key= lambda x: (-x[1], x[0]))\n",
    "non_zero_stars = list(filter(lambda x : x[1], sorted_member_info))\n",
    "non_zero_stars"
   ]
  },
  {
   "cell_type": "code",
   "execution_count": null,
   "metadata": {},
   "outputs": [],
   "source": [
    "concilliatory_winner_1 = random.choice(non_zero_stars)\n",
    "print(f\"Grattis {concilliatory_winner_1[0]} till första tröstpriset! Du hade tjänat ihop totalt {concilliatory_winner_1[1]} stjärnor under vecka. {WEEK}!\")"
   ]
  },
  {
   "cell_type": "code",
   "execution_count": null,
   "metadata": {},
   "outputs": [],
   "source": [
    "concilliatory_winner_2 = random.choice(non_zero_stars)\n",
    "print(f\"Grattis {concilliatory_winner_2[0]} till andra tröstpriset! Du hade tjänat ihop totalt {concilliatory_winner_2[1]} stjärnor under vecka. {WEEK}!\")"
   ]
  },
  {
   "cell_type": "code",
   "execution_count": null,
   "metadata": {},
   "outputs": [],
   "source": [
    "weights = [member[2] for member in non_zero_stars]\n",
    "winner = random.choices(non_zero_stars, weights=weights, k=1)[0]\n",
    "print(f\"Grattis {winner[0]} till veckans stora pris! Du hade tjänat ihop totalt {winner[1]} stjärnor under vecka. {WEEK}!\")"
   ]
  },
  {
   "cell_type": "code",
   "execution_count": null,
   "metadata": {},
   "outputs": [],
   "source": []
  }
 ],
 "metadata": {
  "kernelspec": {
   "display_name": "Python 3.8.10 64-bit",
   "language": "python",
   "name": "python3"
  },
  "language_info": {
   "codemirror_mode": {
    "name": "ipython",
    "version": 3
   },
   "file_extension": ".py",
   "mimetype": "text/x-python",
   "name": "python",
   "nbconvert_exporter": "python",
   "pygments_lexer": "ipython3",
   "version": "3.8.10"
  },
  "orig_nbformat": 4,
  "vscode": {
   "interpreter": {
    "hash": "916dbcbb3f70747c44a77c7bcd40155683ae19c65e1c03b4aa3499c5328201f1"
   }
  }
 },
 "nbformat": 4,
 "nbformat_minor": 2
}
